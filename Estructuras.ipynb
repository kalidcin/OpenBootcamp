{
 "cells": [
  {
   "cell_type": "markdown",
   "metadata": {},
   "source": [
    "<h3>ESTRUCTURAS DE CONTROL</h3>\n",
    "<h5>Control de flujo: Guiar la ejecución del programa<br>\n",
    "Se cumple si y solo si <br> <br>\n",
    "Declaracion de variables:\n",
    "</h5>\n"
   ]
  },
  {
   "cell_type": "code",
   "execution_count": null,
   "metadata": {},
   "outputs": [],
   "source": [
    "a = 5 # Asigna 5 a la variable 'a'\n",
    "b = 6 # Asigna 6 a la variable 'b'\n",
    "c = 7 # Asigna 7 a la variable 'c'"
   ]
  },
  {
   "cell_type": "markdown",
   "metadata": {},
   "source": [
    "<h4>OPERADORES CONDICIONALES: <br> </h4>\n",
    "<h5>Mayor que \">\" <br>\n",
    "Menor que \"<\" <br>\n",
    "Mayor igual \">=\" <br>\n",
    "Menor igual \"<=\" <br>\n",
    "Igual \"==\" <br>\n",
    "Diferente de \"!=\" </h5>"
   ]
  },
  {
   "cell_type": "code",
   "execution_count": null,
   "metadata": {},
   "outputs": [],
   "source": [
    "resultado = a != b # ¿El valor de 'a' es diferente al valor de 'b'?\n",
    "print(resultado) # True o False\n",
    "\n",
    "\n",
    "resultado = (a > 5 and c < 7)"
   ]
  },
  {
   "cell_type": "markdown",
   "metadata": {},
   "source": [
    "<h4>Ordenar una lista al derecho y alrevés <br> <br>\n"
   ]
  },
  {
   "cell_type": "code",
   "execution_count": null,
   "metadata": {},
   "outputs": [],
   "source": [
    "lista = [1, 34, 4, 7, 9, 10, 2, 3]\n",
    "listaOrdenada = sorted(lista) # Ordenar una lista de valores de menor a mayor\n",
    "listaReves = sorted(lista, reverse=True) # Ordena una lista de valores de mayor a menor\n",
    "\n",
    "print(listaOrdenada)\n",
    "print(listaReves)"
   ]
  },
  {
   "cell_type": "markdown",
   "metadata": {},
   "source": [
    "<h4>FUNCIONES</h4>"
   ]
  },
  {
   "cell_type": "code",
   "execution_count": null,
   "metadata": {},
   "outputs": [],
   "source": [
    "def nombre(nombre):\n",
    "    print(\"Hola\", nombre)\n",
    "\n",
    "nombre(\"Kalid\")"
   ]
  },
  {
   "cell_type": "code",
   "execution_count": null,
   "metadata": {},
   "outputs": [],
   "source": [
    "def matematicas(a, b): # Define la función\n",
    "    def suma(a, b):\n",
    "        print(a + b)\n",
    "\n",
    "    def resta(a, b):\n",
    "        print(a - b)\n",
    "\n",
    "    suma(a, b)\n",
    "    resta(a, b)\n",
    "\n",
    "matematicas(8, 4) # Invoca la función"
   ]
  },
  {
   "cell_type": "markdown",
   "metadata": {},
   "source": [
    "<h4>FUNCIONES CON ARGUMENTOS INDEFINIDOS</h4>"
   ]
  },
  {
   "cell_type": "code",
   "execution_count": null,
   "metadata": {},
   "outputs": [],
   "source": [
    "def numeros(*args): # Crea una tupla con n numeros\n",
    "    print(args)\n",
    "\n",
    "numeros(1, 2, 3, 4, 5, 6, 7, 8, 9, 0)\n",
    "\n",
    "def suma(*args): # Suma de todos los numeros\n",
    "    resultado = 0\n",
    "\n",
    "    for i in args:\n",
    "        resultado = resultado + i\n",
    "\n",
    "    print(resultado)\n",
    "\n",
    "suma(1, 2, 3, 4, 5, 6)\n",
    "\n",
    "def palabras(**kwargs): # Crea un diccionario\n",
    "    print(kwargs)\n",
    "\n",
    "palabras(Clave1 = \"Uno\", Clave2 = \"Dos\")"
   ]
  },
  {
   "cell_type": "markdown",
   "metadata": {},
   "source": [
    "<h4>FUNCIONES ANONIMAS: Lambda</h4>"
   ]
  },
  {
   "cell_type": "code",
   "execution_count": null,
   "metadata": {},
   "outputs": [],
   "source": [
    "anonima = lambda nombre : print(\"Hola\", nombre) # Función con argumentos y acciones\n",
    "anonima(\"Kalid\") # Invocamos la función con su argumento"
   ]
  },
  {
   "cell_type": "markdown",
   "metadata": {},
   "source": [
    "<h4>CLASES</h4>"
   ]
  },
  {
   "cell_type": "code",
   "execution_count": null,
   "metadata": {},
   "outputs": [],
   "source": [
    "class Luz: # Se crea la clase Luz\n",
    "    _encendido = True # Cuando una variable se coloca con guion bajo no se debe modificar\n",
    "\n",
    "    def enciende(self): # Prendemos la luz\n",
    "        self._encendido = True \n",
    "    \n",
    "    def apaga(self): # Apagamos la luz\n",
    "        self._encendido = False\n",
    "\n",
    "    def isEncendido(self):\n",
    "        return self._encendido\n",
    "\n",
    "# La instancia l1 es independiente a cualquier otra, no modifica sus argumentos\n",
    "l1 = Luz() # Se crea una instancia l1 de Luz\n",
    "l1.enciende() # Se utiliza la función \"enciende\"\n",
    "\n",
    "print(l1.isEncendido()) # True\n",
    "\n",
    "# La instancia l2 es independiente a cualquier otra, no modifica sus argumentos\n",
    "l2 = Luz() \n",
    "l2.apaga()\n",
    "\n",
    "print(l2.isEncendido()) # False\n",
    "\n"
   ]
  },
  {
   "cell_type": "markdown",
   "metadata": {},
   "source": [
    "<h4>CLASES ESTATICAS</h4>"
   ]
  },
  {
   "cell_type": "code",
   "execution_count": null,
   "metadata": {},
   "outputs": [],
   "source": [
    "# Comparten el mismo espacio de memoria, siempre se modifica el mismo espacio, no crea\n",
    "# instancias\n",
    "class Estatica: \n",
    "    numero = 1\n",
    "\n",
    "    def incrementa(): # No tienen el parametro self\n",
    "        Estatica.numero += 1\n",
    "\n",
    "Estatica.incrementa()\n",
    "print(Estatica.numero)\n",
    "\n",
    "Estatica.incrementa()\n",
    "print(Estatica.numero)"
   ]
  }
 ],
 "metadata": {
  "kernelspec": {
   "display_name": "Python 3.10.6 64-bit",
   "language": "python",
   "name": "python3"
  },
  "language_info": {
   "codemirror_mode": {
    "name": "ipython",
    "version": 3
   },
   "file_extension": ".py",
   "mimetype": "text/x-python",
   "name": "python",
   "nbconvert_exporter": "python",
   "pygments_lexer": "ipython3",
   "version": "3.10.6"
  },
  "orig_nbformat": 4,
  "vscode": {
   "interpreter": {
    "hash": "aee8b7b246df8f9039afb4144a1f6fd8d2ca17a180786b69acc140d282b71a49"
   }
  }
 },
 "nbformat": 4,
 "nbformat_minor": 2
}
